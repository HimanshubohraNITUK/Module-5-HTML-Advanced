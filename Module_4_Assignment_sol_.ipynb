{
  "nbformat": 4,
  "nbformat_minor": 0,
  "metadata": {
    "colab": {
      "provenance": []
    },
    "kernelspec": {
      "name": "python3",
      "display_name": "Python 3"
    },
    "language_info": {
      "name": "python"
    }
  },
  "cells": [
    {
      "cell_type": "markdown",
      "source": [],
      "metadata": {
        "id": "5xvc77PPhLtM"
      }
    },
    {
      "cell_type": "markdown",
      "source": [
        "Q1 - Build a simple webpage that displays text as shown in the below image ?"
      ],
      "metadata": {
        "id": "RB-O-LrYhNSk"
      }
    },
    {
      "cell_type": "code",
      "source": [
        "<!DOCTYPE html>\n",
        "<html lang=\"en\">\n",
        "<head>\n",
        "    <meta charset=\"UTF-8\">\n",
        "    <meta name=\"viewport\" content=\"width=device-width, initial-scale=1.0\">\n",
        "    <title>Document</title>\n",
        "</head>\n",
        "<body>\n",
        "    <p><b>This text will be bolded. </b></p>\n",
        "    <p><em>This text will be italic.</em></p>\n",
        "    <p><u>This text will be underline.</u></p>\n",
        "    <p><mark> This text will be italic. </mark></p>\n",
        "    <p>This is normal text <sup>This will be super scripted </sup>This is  Normal again</p>\n",
        "    <p> This is normal text <sub>This will be subscripted </sub> </p>\n",
        "    <p>Normal Text <small> Small Text </small> </p>\n",
        "    <p> <s>This text will be deleted. </s> </p>\n",
        "</body>\n",
        "</html>"
      ],
      "metadata": {
        "id": "dYOHQjKbhUVE"
      },
      "execution_count": null,
      "outputs": []
    },
    {
      "cell_type": "markdown",
      "source": [
        "Q2 - Build a simple webpage that helps users navigate different web development-related websites. Note: On\n",
        "clicking the hyperlink the web pages should open in a new tab. Below is a reference image."
      ],
      "metadata": {
        "id": "ffnvSveEjJwP"
      }
    },
    {
      "cell_type": "code",
      "source": [
        "<!DOCTYPE html>\n",
        "<html lang=\"en\">\n",
        "<head>\n",
        "    <meta charset=\"UTF-8\">\n",
        "    <meta name=\"viewport\" content=\"width=device-width, initial-scale=1.0\">\n",
        "    <title>Document</title>\n",
        "</head>\n",
        "<body>\n",
        "    <h2>Navigate me : </h2>\n",
        "    <p>Take me to <a href=\"https://pwskills.com/\" target=\"_blank\">PW Skills </a>  to buy a course   </p>\n",
        "    <p>Take me to <a href=\"https://developer.mozilla.org/en-US/\" target=\"_blank\"> MDN doc </a>  to know more about Web development    </p>\n",
        "    <p>Take me to <a href=\"https://pwskills.com/\" target=\"_blank\">PW Skills Lab  </a>  to practice live coding   </p>\n",
        "    <!-- I was unable  to access, see and fetch pw skills lab  link so i just attached link of pw skills   -->\n",
        "\n",
        "\n",
        "</body>\n",
        "</html>"
      ],
      "metadata": {
        "id": "y8xxQILGjRP7"
      },
      "execution_count": null,
      "outputs": []
    },
    {
      "cell_type": "markdown",
      "source": [
        "Q3 - Build a simple blog web page with 3 pages home, web development, and web design. Each page must\n",
        "contain hyperlinks to other pages in the top, a heading of the page topic and a paragraph of information.\n",
        "For the home page you can add some information about yourself?\n"
      ],
      "metadata": {
        "id": "ykRWc479oeve"
      }
    },
    {
      "cell_type": "code",
      "source": [
        "\"\"\" We need to create three HTML files, each representing a different web page. \"\"\"\n",
        "\n",
        "\n",
        "\"\"\" Page 1 index.html \"\"\"\n",
        "<!DOCTYPE html>\n",
        "<html lang=\"en\">\n",
        "<head>\n",
        "  <meta charset=\"UTF-8\">\n",
        "  <title>Home - My Blog</title>\n",
        "</head>\n",
        "<body>\n",
        "  <nav>\n",
        "    <a href=\"index.html\">Home</a>\n",
        "    <a href=\"web-development.html\">Web Development</a>\n",
        "    <a href=\"web-design.html\">Web Design</a>\n",
        "  </nav>\n",
        "  <h1>Welcome to My Blog</h1>\n",
        "  <p>Hello! I'm Himanshu Bohra, a passionate educator and web development enthusiast.\n",
        "     On this blog, I share tips, resources, and insights about web development and design.\n",
        "     Feel free to explore the other sections to learn more!</p>\n",
        "</body>\n",
        "</html>\n",
        "\n",
        "\n",
        "\n",
        "\"\"\" Page 2 web-development.html \"\"\"\n",
        "\n",
        "<!DOCTYPE html>\n",
        "<html lang=\"en\">\n",
        "<head>\n",
        "  <meta charset=\"UTF-8\">\n",
        "  <title>Web Development - My Blog</title>\n",
        "</head>\n",
        "<body>\n",
        "  <nav>\n",
        "    <a href=\"index.html\">Home</a>\n",
        "    <a href=\"web-development.html\">Web Development</a>\n",
        "    <a href=\"web-design.html\">Web Design</a>\n",
        "  </nav>\n",
        "  <h1>Web Development</h1>\n",
        "  <p>Web development involves building and maintaining websites.\n",
        "     It includes frontend development using HTML, CSS, and JavaScript, as well as backend development\n",
        "      using technologies like Node.js, databases, and APIs. A good developer understands both the technical and\n",
        "       user experience aspects of a site.</p>\n",
        "</body>\n",
        "</html>\n",
        "\n",
        "\n",
        "\n",
        "\"\"\" Page 3 web-design.html \"\"\"\n",
        "<!DOCTYPE html>\n",
        "<html lang=\"en\">\n",
        "<head>\n",
        "  <meta charset=\"UTF-8\">\n",
        "  <title>Web Design - My Blog</title>\n",
        "</head>\n",
        "<body>\n",
        "  <nav>\n",
        "    <a href=\"index.html\">Home</a>\n",
        "    <a href=\"web-development.html\">Web Development</a>\n",
        "    <a href=\"web-design.html\">Web Design</a>\n",
        "  </nav>\n",
        "\n",
        "  <h1>Web Design</h1>\n",
        "  <p>Web design focuses on the aesthetics and usability of a website.\n",
        "    It involves creating layouts, selecting colors, choosing fonts, and ensuring responsive design.\n",
        "     A great web designer ensures the site is visually appealing and user-friendly on all devices.</p>\n",
        "</body>\n",
        "</html>\n"
      ],
      "metadata": {
        "id": "JtuGrda_qNM6"
      },
      "execution_count": null,
      "outputs": []
    },
    {
      "cell_type": "markdown",
      "source": [
        "Q4 - Create an ordered list of HTML tags. Each list item must include the tag name and some information about\n",
        "the tag ?"
      ],
      "metadata": {
        "id": "m_fa7D0NrgwV"
      }
    },
    {
      "cell_type": "code",
      "source": [
        "<!DOCTYPE html>\n",
        "<html lang=\"en\">\n",
        "<head>\n",
        "    <meta charset=\"UTF-8\">\n",
        "    <meta name=\"viewport\" content=\"width=device-width, initial-scale=1.0\">\n",
        "    <title>Document</title>\n",
        "</head>\n",
        "<body>\n",
        "       <ol>\n",
        "           <li>  nav: Defines navigation links. </li>\n",
        "            <li> a  : Creates hyperlinks to other pages or sections.  </li>\n",
        "           <li>  h1 : Represents the main heading.   </li>\n",
        "            <li> p  : Defines a paragraph of text. </li>\n",
        "             <li> img: Embeds an image in the webpage.</li>\n",
        "      </ol>\n",
        "\n",
        "</body>"
      ],
      "metadata": {
        "id": "sZoM-gb9rsHm"
      },
      "execution_count": null,
      "outputs": []
    },
    {
      "cell_type": "markdown",
      "source": [
        "Q5 - Create a description list of full stack web development tech stack, using the * dl *  tag. Each term should be\n",
        "a tech stack name and each description should be a brief explanation of what the tech stack is used for ?  \n",
        "\n"
      ],
      "metadata": {
        "id": "UAw6zfLQt81y"
      }
    },
    {
      "cell_type": "code",
      "source": [
        "<!DOCTYPE html>\n",
        "<html lang=\"en\">\n",
        "<head>\n",
        "    <meta charset=\"UTF-8\">\n",
        "    <meta name=\"viewport\" content=\"width=device-width, initial-scale=1.0\">\n",
        "    <title>Document</title>\n",
        "</head>\n",
        "<body>\n",
        "    <dl>\n",
        "        <dt>MongoDB</dt>\n",
        "        <dd>\n",
        "          A NoSQL database used to store data in flexible, JSON-like documents.\n",
        "          It’s schema-less and allows fast development.\n",
        "          Perfect for handling large-scale applications.\n",
        "          Works smoothly with JavaScript and Node.js.\n",
        "        </dd>\n",
        "\n",
        "        <dt>Express.js</dt>\n",
        "        <dd>\n",
        "          A backend web framework for Node.js.\n",
        "          It simplifies building APIs and web servers.\n",
        "          Handles routing, middleware, and requests easily.\n",
        "          It's lightweight and fast for server-side logic.\n",
        "        </dd>\n",
        "\n",
        "        <dt>React.js</dt>\n",
        "        <dd>\n",
        "          A JavaScript library for building user interfaces.\n",
        "          It uses components to manage dynamic UI efficiently.\n",
        "          Known for virtual DOM and fast rendering.\n",
        "          Used to create responsive, interactive frontends.\n",
        "        </dd>\n",
        "\n",
        "        <dt>Node.js</dt>\n",
        "        <dd>\n",
        "          A JavaScript runtime for running JS on the server.\n",
        "          Enables backend development with JavaScript.\n",
        "          Handles asynchronous operations using event-driven architecture.\n",
        "          Widely used for scalable, real-time apps.\n",
        "        </dd>\n",
        "\n",
        "        <dt>REST API</dt>\n",
        "        <dd>\n",
        "          A standard architecture for web services.\n",
        "          Enables communication between frontend and backend.\n",
        "          Uses HTTP methods like GET, POST, PUT, DELETE.\n",
        "          Sends and receives data in JSON format.\n",
        "        </dd>\n",
        "      </dl>\n",
        "\n",
        "</body>\n",
        "</html>"
      ],
      "metadata": {
        "id": "KdrqGv0FuP4E"
      },
      "execution_count": null,
      "outputs": []
    },
    {
      "cell_type": "code",
      "source": [
        "Q 6 - Create an ordered list of the full stack web development tech stack HTML, CSS, and JS. For each tech\n",
        "stack, create a table that lists the tech stack name, its primary use cases, and some key features or\n",
        "benefits. Below is a reference image ?"
      ],
      "metadata": {
        "id": "001Wd5czvALr"
      },
      "execution_count": null,
      "outputs": []
    },
    {
      "cell_type": "code",
      "source": [
        "<!DOCTYPE html>\n",
        "<html lang=\"en\">\n",
        "<head>\n",
        "    <meta charset=\"UTF-8\">\n",
        "    <meta name=\"viewport\" content=\"width=device-width, initial-scale=1.0\">\n",
        "    <title>Document</title>\n",
        "</head>\n",
        "<body>\n",
        "    <dl>\n",
        "        <dt><h1> 1. HTML</h1></dt>\n",
        "        <dd><table border=\"1\">\n",
        "            <tr>\n",
        "              <td> <b>Primary Use</b> </td>\n",
        "              <td> <b>Key Feature / Benefits</b> </td>\n",
        "            </tr>\n",
        "            <tr>\n",
        "              <td> Building the structure of web page </td>\n",
        "              <td>\n",
        "                <ul>\n",
        "                  <li>Simple and easy to learn </li>\n",
        "                  <li> Compatible with all web browser </li>\n",
        "                  <li> Allow for semantic markup </li>\n",
        "                </ul>\n",
        "            </td>\n",
        "            </tr>\n",
        "          </table> </dd>\n",
        "\n",
        "          <dt><h1> 2. CSS </h1></dt>\n",
        "        <dd><table border=\"1\">\n",
        "            <tr>\n",
        "              <td> <b>Primary Use</b> </td>\n",
        "              <td> <b>Key Feature / Benefits</b> </td>\n",
        "            </tr>\n",
        "            <tr>\n",
        "              <td> To style and design the HTML content (colors, layout, fonts, spacing). </td>\n",
        "              <td>\n",
        "                <ul>\n",
        "                  <li> Allows you to add colors, fonts, spacing, borders, and background styles to your web page. </li>\n",
        "                  <li> Helps create complex layouts easily with tools like Flexbox and CSS Grid.       </li>\n",
        "                  <li>  Makes websites adapt to different screen sizes (mobile, tablet, desktop) using media queries.  </li>\n",
        "                </ul>\n",
        "            </td>\n",
        "            </tr>\n",
        "          </table> </dd>\n",
        "\n",
        "          <dt><h1>3. JavaScript</h1></dt>\n",
        "          <dd>\n",
        "            <table border=\"1\">\n",
        "              <tr>\n",
        "                <td><b>Primary Use</b></td>\n",
        "                <td><b>Key Feature / Benefits</b></td>\n",
        "              </tr>\n",
        "              <tr>\n",
        "                <td>To make web pages interactive and dynamic by handling user events and updating content without reloading.</td>\n",
        "                <td>\n",
        "                  <ul>\n",
        "                    <li>Can dynamically manipulate HTML and CSS (DOM manipulation) to update content in real-time.</li>\n",
        "                    <li>Handles user actions like clicks, typing, and scrolling using event listeners.</li>\n",
        "                    <li>Validates forms, performs calculations, and fetches data from servers using APIs and AJAX.</li>\n",
        "                  </ul>\n",
        "                </td>\n",
        "              </tr>\n",
        "            </table>\n",
        "          </dd>\n",
        "    </dl>\n",
        "\n",
        "\n",
        "</body>"
      ],
      "metadata": {
        "id": "6ssl2B9fyQdF"
      },
      "execution_count": null,
      "outputs": []
    },
    {
      "cell_type": "markdown",
      "source": [
        "Q7 - Build a complex nested list structure representing a multi-level table of contents. Use unordered lists\n",
        "(<ul>) and list items (<li>) with inline-block styling to create a structured layout. Apply formatting tags to\n",
        "enhance the presentation of list items ?"
      ],
      "metadata": {
        "id": "nNaPoYBS4DU5"
      }
    },
    {
      "cell_type": "code",
      "source": [
        "<!DOCTYPE html>\n",
        "<html lang=\"en\">\n",
        "<head>\n",
        "    <style>\n",
        "     li::marker {\n",
        "      color: black; /* bullet stays black */\n",
        "    }\n",
        "\n",
        "    li {\n",
        "      color: blue; /* text becomes blue */\n",
        "      text-decoration: underline; /* text is underlined */\n",
        "    }\n",
        "      </style>\n",
        "      \"\"\" here i have used a different property of li in style sheet \"\"\"\n",
        "    <meta charset=\"UTF-8\">\n",
        "    <meta name=\"viewport\" content=\"width=device-width, initial-scale=1.0\">\n",
        "    <title>Document</title>\n",
        "</head>\n",
        "<body>\n",
        "    <h1>Table Of Contents</h1>\n",
        "    <ul >\n",
        "        <li> Part 1 : Introduction     </li>\n",
        "        <li> Part 2 : Getting Started  </li>\n",
        "           <ul><li>2.1 Installing the software </li>\n",
        "              <li>2.2 Creating a new Project </li>\n",
        "                    <ul>\n",
        "                        <li> 2.2.1 Project Templates </li>\n",
        "                        <li> 2.2.2 Customizing Settings </li>\n",
        "                    </ul>\n",
        "            <li> 2.3 Exploring the interface </li>\n",
        "                     <ul>\n",
        "                        <li> 2.3.1 Toobar Feature </li>\n",
        "                        <li> 2.3.2 Panel Layout </li>\n",
        "                          <ul>\n",
        "                            <li> 2.3.2.1 Docking Panels </li>\n",
        "                            <li> 2.3.2.2 Tabbed Interface  </li>\n",
        "                          </ul>\n",
        "                     </ul>\n",
        "                </ul>\n",
        "        <li> Part 3 : Advanced Topics  </li>\n",
        "            <ul>\n",
        "\n",
        "            <li>3.1 Working with plugins   </li>\n",
        "            <ul>\n",
        "             <li> 3.1.1 Installing Plugins </li>\n",
        "             <li> 3.1.1 Plugin Configuration </li>\n",
        "\n",
        "            </ul>\n",
        "\n",
        "            <li>3.2  Customizing the UI   </li>\n",
        "            <ul>\n",
        "             <li> 3.2.1 Changing the Themes </li>\n",
        "             <li> 3.2.2 Configuring Shortcuts </li>\n",
        "\n",
        "            </ul>\n",
        "\n",
        "            <li>3.3 Optimizing Performance    </li>\n",
        "            <ul>\n",
        "             <li> 3.3.1 Coaching Strategies </li>\n",
        "             <li> 3.3.2 Resource Minification </li>\n",
        "\n",
        "            </ul>\n",
        "\n",
        "           </ul>\n",
        "\n",
        "\n",
        "        <li> Part 4 : Conclusion       </li>\n",
        "    </ul>\n",
        "\n",
        "</body>\n",
        "</html>"
      ],
      "metadata": {
        "id": "vYMD-1ey4Kw4"
      },
      "execution_count": null,
      "outputs": []
    },
    {
      "cell_type": "markdown",
      "source": [
        "Q8 - Create a table to display a conference schedule. Each row corresponds to a time slot, and each column\n",
        "corresponds to a room. Some time slots might have multiple sessions running simultaneously in different\n",
        "rooms. Utilize rowspan and colspan attributes as necessary to accommodate this complex schedule.\n",
        "(use table attribute “cellpadding”  to give extra padding in each table cell )."
      ],
      "metadata": {
        "id": "pKHLg0StD5XT"
      }
    },
    {
      "cell_type": "code",
      "source": [
        "<!DOCTYPE html>\n",
        "<html lang=\"en\">\n",
        "<head>\n",
        "    <meta charset=\"UTF-8\">\n",
        "    <meta name=\"viewport\" content=\"width=device-width, initial-scale=1.0\">\n",
        "    <title>Document</title>\n",
        "</head>\n",
        "<body>\n",
        "\n",
        "<h1>Conference Schedule</h1>\n",
        "\n",
        "<table border=\"2px\">\n",
        "  <tr>\n",
        "    <th>Time</th>\n",
        "    <th>Room 1</th>\n",
        "    <th>Room 2</th>\n",
        "    <th>Room 3</th>\n",
        "    <th>Room 4</th>\n",
        "  </tr>\n",
        "\n",
        "  <tr>\n",
        "    <td rowspan=\"3\">9:00 AM - 10:00 AM</td>\n",
        "    <td rowspan=\"2\">Keynote</td>\n",
        "    <td>Session A</td>\n",
        "    <td>Session B</td>\n",
        "    <td rowspan=\"3\">Session C</td>\n",
        "  </tr>\n",
        "\n",
        "  <tr>\n",
        "    <td>Session D</td>\n",
        "    <td>Session E</td>\n",
        "  </tr>\n",
        "\n",
        "  <tr>\n",
        "\n",
        "    <td colspan=\"2\">10:30 AM - 11:30 AM</td>\n",
        "    <td> Session F</td>\n",
        "    <td></td>\n",
        "  </tr>\n",
        "\n",
        "  <tr>\n",
        "    <td>12:00 PM - 1:00 PM</td>\n",
        "    <td colspan=\"4\">Lunch Break</td>\n",
        "  </tr>\n",
        "\n",
        "  <tr>\n",
        "    <td rowspan=\"2\">1:00 PM - 2:00 PM</td>\n",
        "    <td>Session G</td>\n",
        "    <td rowspan=\"2\">Session H</td>\n",
        "    <td>Session I</td>\n",
        "    <td>Session J</td>\n",
        "  </tr>\n",
        "\n",
        "  <tr>\n",
        "    <td>Session K</td>\n",
        "    <td>Session L</td>\n",
        "    <td>Session M</td>\n",
        "  </tr>\n",
        "\n",
        "</table>\n",
        "</body>\n",
        "</html>"
      ],
      "metadata": {
        "id": "evkFA4aaEAzD"
      },
      "execution_count": null,
      "outputs": []
    }
  ]
}